{
  "cells": [
    {
      "cell_type": "markdown",
      "metadata": {
        "id": "view-in-github",
        "colab_type": "text"
      },
      "source": [
        "<a href=\"https://colab.research.google.com/github/Sudeeksha29/ML-LAB/blob/main/Exp_4(B)(Back_Propagation_Algorithm).ipynb\" target=\"_parent\"><img src=\"https://colab.research.google.com/assets/colab-badge.svg\" alt=\"Open In Colab\"/></a>"
      ]
    },
    {
      "cell_type": "code",
      "execution_count": null,
      "id": "02c541e1",
      "metadata": {
        "id": "02c541e1"
      },
      "outputs": [],
      "source": [
        "import numpy as np"
      ]
    },
    {
      "cell_type": "code",
      "execution_count": null,
      "id": "8b2ca14a",
      "metadata": {
        "id": "8b2ca14a"
      },
      "outputs": [],
      "source": [
        "# Define sigmoid activation function\n",
        "def sigmoid(x):\n",
        "    return 1 / (1 + np.exp(-x))\n",
        "\n",
        "# Define derivative of sigmoid function\n",
        "def sigmoid_derivative(x):\n",
        "    return x * (1 - x)"
      ]
    },
    {
      "cell_type": "code",
      "execution_count": null,
      "id": "98cf6f86",
      "metadata": {
        "id": "98cf6f86",
        "outputId": "ffb6e9b9-5f60-4cd8-a00d-d64c998669a2",
        "colab": {
          "base_uri": "https://localhost:8080/"
        }
      },
      "outputs": [
        {
          "name": "stdout",
          "output_type": "stream",
          "text": [
            "Enter input data separated by commas: 0.05,0.1\n"
          ]
        }
      ],
      "source": [
        "# Read input from user\n",
        "input_data = np.array(input(\"Enter input data separated by commas: \").split(','), dtype=float)"
      ]
    },
    {
      "cell_type": "code",
      "execution_count": null,
      "id": "d755e12c",
      "metadata": {
        "id": "d755e12c",
        "outputId": "8b081b7b-7591-40a0-ba0d-ce49f271e0a5",
        "colab": {
          "base_uri": "https://localhost:8080/"
        }
      },
      "outputs": [
        {
          "name": "stdout",
          "output_type": "stream",
          "text": [
            "Enter number of hidden layers: 1\n"
          ]
        }
      ],
      "source": [
        "# Read number of hidden layers from user\n",
        "n_hidden_layers = int(input(\"Enter number of hidden layers: \"))"
      ]
    },
    {
      "cell_type": "code",
      "execution_count": null,
      "id": "ce7cd9ca",
      "metadata": {
        "id": "ce7cd9ca",
        "outputId": "bf980167-c2c3-4e77-bc04-f59e86f8363a",
        "colab": {
          "base_uri": "https://localhost:8080/"
        }
      },
      "outputs": [
        {
          "name": "stdout",
          "output_type": "stream",
          "text": [
            "Enter number of output neurons: 2\n"
          ]
        }
      ],
      "source": [
        "# Read number of output neurons from user\n",
        "n_output_neurons = int(input(\"Enter number of output neurons: \"))"
      ]
    },
    {
      "cell_type": "code",
      "execution_count": null,
      "id": "0d9c07b9",
      "metadata": {
        "id": "0d9c07b9",
        "outputId": "f6727ef4-e564-4e4d-d81d-f70b1a6a4c5e",
        "colab": {
          "base_uri": "https://localhost:8080/"
        }
      },
      "outputs": [
        {
          "name": "stdout",
          "output_type": "stream",
          "text": [
            "Enter bias values for layer 1 separated by commas: 0.35\n",
            "Enter bias values for layer 2 separated by commas: 0.6\n"
          ]
        }
      ],
      "source": [
        "# Read bias values from user\n",
        "bias_values = []\n",
        "for i in range(n_hidden_layers+1):\n",
        "    bias_values.append(np.array(input(f\"Enter bias values for layer {i+1} separated by commas: \").split(','), dtype=float))"
      ]
    },
    {
      "cell_type": "code",
      "execution_count": null,
      "id": "c4aaa5ed",
      "metadata": {
        "id": "c4aaa5ed"
      },
      "outputs": [],
      "source": [
        "# Define neural network architecture\n",
        "input_layer_size = input_data.shape[0]\n",
        "hidden_layer_sizes = []\n",
        "weights = []"
      ]
    },
    {
      "cell_type": "code",
      "execution_count": null,
      "id": "ff9022e7",
      "metadata": {
        "id": "ff9022e7",
        "outputId": "1cbf4b82-4e27-4217-b717-4c36503b5792",
        "colab": {
          "base_uri": "https://localhost:8080/"
        }
      },
      "outputs": [
        {
          "name": "stdout",
          "output_type": "stream",
          "text": [
            "Enter number of neurons in hidden layer 1: 2\n",
            "Enter weights for input layer to hidden layer 1 separated by commas: 0.15,0.2,0.25,0.3\n",
            "Enter weights for hidden layer 1 to output layer separated by commas: 0.4,0.45,0.5,0.55\n"
          ]
        }
      ],
      "source": [
        "for i in range(n_hidden_layers):\n",
        "    hidden_layer_sizes.append(int(input(f\"Enter number of neurons in hidden layer {i+1}: \")))\n",
        "    if i == 0:\n",
        "        weights.append(np.array(input(f\"Enter weights for input layer to hidden layer {i+1} separated by commas: \").split(','), dtype=float).reshape(input_layer_size, hidden_layer_sizes[i]))\n",
        "    else:\n",
        "        weights.append(np.array(input(f\"Enter weights for hidden layer {i} to hidden layer {i+1} separated by commas: \").split(','), dtype=float).reshape(hidden_layer_sizes[i-1], hidden_layer_sizes[i]))\n",
        "weights.append(np.array(input(f\"Enter weights for hidden layer {n_hidden_layers} to output layer separated by commas: \").split(','), dtype=float).reshape(hidden_layer_sizes[-1], n_output_neurons))"
      ]
    },
    {
      "cell_type": "code",
      "execution_count": null,
      "id": "c0d931b4",
      "metadata": {
        "id": "c0d931b4"
      },
      "outputs": [],
      "source": [
        "# Set hyperparameters\n",
        "learning_rate = 0.1\n",
        "num_iterations = 1000"
      ]
    },
    {
      "cell_type": "code",
      "execution_count": null,
      "id": "73eecfa3",
      "metadata": {
        "id": "73eecfa3",
        "outputId": "5adae91a-9a5f-43e0-8a7d-a33030fe1ea7",
        "colab": {
          "base_uri": "https://localhost:8080/"
        }
      },
      "outputs": [
        {
          "name": "stdout",
          "output_type": "stream",
          "text": [
            "Enter target output separated by commas: 0.01,0.99\n"
          ]
        }
      ],
      "source": [
        "# Read target output from user\n",
        "target = np.array(input(f\"Enter target output separated by commas: \").split(','), dtype=float)"
      ]
    },
    {
      "cell_type": "code",
      "execution_count": null,
      "id": "868b7baa",
      "metadata": {
        "id": "868b7baa",
        "outputId": "6177a74f-dbd2-4ef5-f48e-f0e6e1c7ff63",
        "colab": {
          "base_uri": "https://localhost:8080/"
        }
      },
      "outputs": [
        {
          "output_type": "stream",
          "name": "stdout",
          "text": [
            "Final output: [0.110599  0.9079646]\n",
            "Target output: [0.01 0.99]\n",
            "Layer 1 weights: [[0.21754014 0.26409186]\n",
            " [0.38508029 0.42818371]]\n",
            "Layer 2 weights: [[-2.28652606  1.35816181]\n",
            " [-2.19414584  1.46070254]]\n",
            "Layer 1 biases: [0.35]\n",
            "Layer 2 biases: [0.6]\n"
          ]
        }
      ],
      "source": [
        "# Train the neural network\n",
        "for i in range(num_iterations):\n",
        "\n",
        "    # Feedforward\n",
        "    hidden_layers = [input_data]\n",
        "    for j in range(len(hidden_layer_sizes)):\n",
        "        hidden_layer = sigmoid(np.dot(hidden_layers[j], weights[j]) + bias_values[j])\n",
        "        hidden_layers.append(hidden_layer)\n",
        "    output = sigmoid(np.dot(hidden_layers[-1], weights[-1]) + bias_values[-1])\n",
        "\n",
        "    # Backpropagation\n",
        "    error = output - target\n",
        "    delta = error * sigmoid_derivative(output)\n",
        "    deltas = [delta]\n",
        "    for j in range(len(hidden_layer_sizes)-1, -1, -1):\n",
        "        delta = np.dot(deltas[-1], weights[j+1].T) * sigmoid_derivative(hidden_layers[j+1])\n",
        "        deltas.append(delta)\n",
        "    deltas.reverse()\n",
        "\n",
        "    # Update weights and biases\n",
        "    for j in range(len(hidden_layer_sizes)+1):\n",
        "        if j == 0:\n",
        "            layer_input = input_data\n",
        "        else:\n",
        "            layer_input = hidden_layers[j]\n",
        "        dtran = np.transpose(deltas[j].reshape(-1,1))\n",
        "        x = np.dot(layer_input.reshape(-1,1), dtran)\n",
        "        #print(x.shape,weights[j].shape)\n",
        "        weights[j] -= learning_rate * x\n",
        "\n",
        "\n",
        "\n",
        "# Print final output and weights\n",
        "print(f\"Final output: {output}\")\n",
        "print(f\"Target output: {target}\")\n",
        "for i in range(len(weights)):\n",
        "    print(f\"Layer {i+1} weights: {weights[i]}\")\n",
        "for i in range(len(bias_values)):\n",
        "    print(f\"Layer {i+1} biases: {bias_values[i]}\")"
      ]
    },
    {
      "cell_type": "code",
      "execution_count": null,
      "id": "a30582ac",
      "metadata": {
        "id": "a30582ac"
      },
      "outputs": [],
      "source": []
    }
  ],
  "metadata": {
    "kernelspec": {
      "display_name": "Python 3 (ipykernel)",
      "language": "python",
      "name": "python3"
    },
    "language_info": {
      "codemirror_mode": {
        "name": "ipython",
        "version": 3
      },
      "file_extension": ".py",
      "mimetype": "text/x-python",
      "name": "python",
      "nbconvert_exporter": "python",
      "pygments_lexer": "ipython3",
      "version": "3.9.13"
    },
    "colab": {
      "provenance": [],
      "include_colab_link": true
    }
  },
  "nbformat": 4,
  "nbformat_minor": 5
}