{
  "nbformat": 4,
  "nbformat_minor": 0,
  "metadata": {
    "colab": {
      "provenance": [],
      "authorship_tag": "ABX9TyNSjfCTuE7gjhV1eHstyla9",
      "include_colab_link": true
    },
    "kernelspec": {
      "name": "python3",
      "display_name": "Python 3"
    },
    "language_info": {
      "name": "python"
    }
  },
  "cells": [
    {
      "cell_type": "markdown",
      "metadata": {
        "id": "view-in-github",
        "colab_type": "text"
      },
      "source": [
        "<a href=\"https://colab.research.google.com/github/Sudeeksha29/ML-LAB/blob/main/SimpePerceptron_Or_gate.ipynb\" target=\"_parent\"><img src=\"https://colab.research.google.com/assets/colab-badge.svg\" alt=\"Open In Colab\"/></a>"
      ]
    },
    {
      "cell_type": "code",
      "execution_count": null,
      "metadata": {
        "id": "R9kDnogfzOQ1"
      },
      "outputs": [],
      "source": [
        "import numpy as np\n",
        "\n",
        "# Step - 1: Initialise Input and Output variables\n",
        "features = np.array([\n",
        "    [0, 0],\n",
        "    [0, 1],\n",
        "    [1, 0],\n",
        "    [1, 1]\n",
        "])\n",
        "labels = np.array([0, 1, 1, 1])  # OR Gate\n",
        "\n",
        "# Step - 2: Initialize the network parameters\n",
        "epoch = int(input('Enter the epochs: '))\n",
        "threshold = float(input(\"Enter the Threshold: \"))\n",
        "learning_rate = float(input('Enter the learning rate: '))\n",
        "a = []\n",
        "a.append(float(input('Enter the weights for x0: ')))\n",
        "a.append(float(input('Enter the weights for x1: ')))\n",
        "w = np.array(a)\n",
        "\n",
        "# Step - 3: Training Loop\n",
        "for j in range(0, epoch):\n",
        "    print(\"epoch:\", j)\n",
        "    global_delta = 0\n",
        "    for i in range(0, features.shape[0]):\n",
        "        actual = labels[i]\n",
        "        instance = features[i]\n",
        "        x0 = instance[0]\n",
        "        x1 = instance[1]\n",
        "\n",
        "        sum_unit = x0 * w[0] + x1 * w[1]\n",
        "\n",
        "        if sum_unit > threshold:\n",
        "            fire = 1\n",
        "        else:\n",
        "            fire = 0\n",
        "\n",
        "        delta = actual - fire\n",
        "        global_delta = global_delta + abs(delta)\n",
        "        print(\"Prediction:\", fire, \"where as actual was\", actual, \"(error:\", delta, \")\")\n",
        "\n",
        "        # Update weights\n",
        "        w[0] = w[0] + delta * learning_rate\n",
        "        w[1] = w[1] + delta * learning_rate\n",
        "\n",
        "    print(\"--------------------\")\n",
        "    if global_delta == 0:\n",
        "        print(\"Training complete. Network converged.\")\n",
        "        break\n",
        "\n",
        "# Final weights\n",
        "print(\"\\nFinal Weights after training:\", w)\n"
      ]
    }
  ]
}