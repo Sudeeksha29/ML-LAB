{
  "nbformat": 4,
  "nbformat_minor": 0,
  "metadata": {
    "colab": {
      "provenance": [],
      "authorship_tag": "ABX9TyM+kIeV8+psZBu3EUJB1+rd",
      "include_colab_link": true
    },
    "kernelspec": {
      "name": "python3",
      "display_name": "Python 3"
    },
    "language_info": {
      "name": "python"
    }
  },
  "cells": [
    {
      "cell_type": "markdown",
      "metadata": {
        "id": "view-in-github",
        "colab_type": "text"
      },
      "source": [
        "<a href=\"https://colab.research.google.com/github/Sudeeksha29/ML-LAB/blob/main/SimpePerceptron_And_gate.ipynb\" target=\"_parent\"><img src=\"https://colab.research.google.com/assets/colab-badge.svg\" alt=\"Open In Colab\"/></a>"
      ]
    },
    {
      "cell_type": "code",
      "execution_count": null,
      "metadata": {
        "id": "HMMydN_Jz8dF"
      },
      "outputs": [],
      "source": [
        "import numpy as np\n",
        "\n",
        "# Step - 1: Initialise Input and Output variables\n",
        "features = np.array([\n",
        "    [0, 0],\n",
        "    [0, 1],\n",
        "    [1, 0],\n",
        "    [1, 1]\n",
        "])\n",
        "labels = np.array([0, 0, 0, 1])  # AND Gate\n",
        "\n",
        "# Step - 2: Initialize the network parameters\n",
        "epoch = int(input('Enter the epochs: '))\n",
        "threshold = float(input(\"Enter the Threshold: \"))\n",
        "learning_rate = float(input('Enter the learning rate: '))\n",
        "a = []\n",
        "a.append(float(input('Enter the weights for x0: ')))\n",
        "a.append(float(input('Enter the weights for x1: ')))\n",
        "w = np.array(a)\n",
        "\n",
        "# Step - 3: Training loop with early stopping\n",
        "for j in range(0, epoch):\n",
        "    print(\"epoch:\", j + 1)\n",
        "    global_delta = 0\n",
        "    for i in range(0, features.shape[0]):\n",
        "        actual = labels[i]\n",
        "        instance = features[i]\n",
        "        x0 = instance[0]\n",
        "        x1 = instance[1]\n",
        "\n",
        "        # Calculate net input\n",
        "        sum_unit = x0 * w[0] + x1 * w[1]\n",
        "\n",
        "        # Compare directly with threshold\n",
        "        if sum_unit >= threshold:\n",
        "            fire = 1\n",
        "        else:\n",
        "            fire = 0\n",
        "\n",
        "        delta = actual - fire\n",
        "        global_delta += abs(delta)\n",
        "        print(f\"Features: {x0}, {x1} | Label: {actual} | Net input: {sum_unit:.2f} | Predicted: {fire} | Error: {delta} | w0: {w[0]:.2f}, w1: {w[1]:.2f}\")\n",
        "\n",
        "        # Update weights\n",
        "        w[0] = w[0] + delta * learning_rate * x0\n",
        "        w[1] = w[1] + delta * learning_rate * x1\n",
        "\n",
        "    print(\"--------------------\")\n",
        "    if global_delta == 0:\n",
        "        print(\"All outputs correct. Training stopped early.\")\n",
        "        break\n",
        "\n",
        "# Step - 4: Final weights after training\n",
        "print(\"\\nFinal weights after training:\")\n",
        "print(f\"w0: {w[0]}, w1: {w[1]}, threshold: {threshold}\")\n",
        "\n",
        "# Step - 5: Testing Perceptron after training\n",
        "print(\"\\nTesting Perceptron after training:\")\n",
        "for i in range(features.shape[0]):\n",
        "    x0, x1 = features[i]\n",
        "    sum_unit = x0 * w[0] + x1 * w[1]\n",
        "    if sum_unit >= threshold:\n",
        "        fire = 1\n",
        "    else:\n",
        "        fire = 0\n",
        "    print(f\"Features: {x0}, {x1} -> Output: {fire}\")\n"
      ]
    }
  ]
}